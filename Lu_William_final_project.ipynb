{
  "cells": [
    {
      "cell_type": "markdown",
      "id": "95ef36e0",
      "metadata": {
        "id": "95ef36e0"
      },
      "source": [
        "# This is the final project of Machine Learning\n",
        "### Transfer Learning for Image Classification\n",
        "#### William Lu\n",
        "#### 7424831487\n",
        "#### WilliamLu1999"
      ]
    },
    {
      "cell_type": "code",
      "execution_count": 57,
      "id": "498be78c",
      "metadata": {
        "id": "498be78c"
      },
      "outputs": [],
      "source": [
        "import pandas as pd\n",
        "import numpy as np\n",
        "import seaborn as sns\n",
        "import matplotlib.pyplot as plt\n",
        "import statsmodels.formula.api as smf\n",
        "import glob\n",
        "import os\n",
        "import math\n",
        "from sklearn.impute import SimpleImputer\n",
        "from sklearn.model_selection import train_test_split"
      ]
    },
    {
      "cell_type": "code",
      "execution_count": 58,
      "id": "64d1e48a",
      "metadata": {
        "id": "64d1e48a"
      },
      "outputs": [],
      "source": [
        "import tensorflow as tf"
      ]
    },
    {
      "cell_type": "code",
      "execution_count": 59,
      "id": "a8725baf",
      "metadata": {
        "id": "a8725baf"
      },
      "outputs": [],
      "source": [
        "from tensorflow import keras"
      ]
    },
    {
      "cell_type": "code",
      "source": [
        "pip install split-folders"
      ],
      "metadata": {
        "colab": {
          "base_uri": "https://localhost:8080/"
        },
        "id": "m5rZ8eaZ2j3F",
        "outputId": "5733b45d-ad65-490d-bcdd-7579b35df950"
      },
      "id": "m5rZ8eaZ2j3F",
      "execution_count": 60,
      "outputs": [
        {
          "output_type": "stream",
          "name": "stdout",
          "text": [
            "Looking in indexes: https://pypi.org/simple, https://us-python.pkg.dev/colab-wheels/public/simple/\n",
            "Requirement already satisfied: split-folders in /usr/local/lib/python3.8/dist-packages (0.5.1)\n"
          ]
        }
      ]
    },
    {
      "cell_type": "code",
      "execution_count": 7,
      "id": "351dc269",
      "metadata": {
        "id": "351dc269"
      },
      "outputs": [],
      "source": [
        "from tensorflow.keras.preprocessing.image import ImageDataGenerator\n",
        "from tensorflow.keras.preprocessing import image\n",
        "import matplotlib.pyplot as plt\n",
        "import cv2 as cv\n",
        "import splitfolders\n",
        "from keras.models import Sequential\n",
        "from keras.layers.core import Dense, Flatten, Dropout"
      ]
    },
    {
      "cell_type": "markdown",
      "id": "782d1e1c",
      "metadata": {
        "id": "782d1e1c"
      },
      "source": [
        "#### (b)i,ii spliting the data in to training, validation, and testing. "
      ]
    },
    {
      "cell_type": "code",
      "source": [
        "from google.colab import drive\n",
        "drive.mount('/content/drive')"
      ],
      "metadata": {
        "colab": {
          "base_uri": "https://localhost:8080/"
        },
        "id": "rnai94GY24n0",
        "outputId": "fd4ca13d-f156-4a66-d3dc-c2c83c80c40f"
      },
      "id": "rnai94GY24n0",
      "execution_count": 8,
      "outputs": [
        {
          "output_type": "stream",
          "name": "stdout",
          "text": [
            "Mounted at /content/drive\n"
          ]
        }
      ]
    },
    {
      "cell_type": "code",
      "source": [
        "splitfolders.ratio(\"/content/drive/My Drive/final-project-WilliamLu1999/images\", output=\"/content/drive/My Drive/final-project-WilliamLu1999/output\", seed=1337, ratio=(.7, .15, .15), group_prefix=None, move=False)\n",
        "print('done')"
      ],
      "metadata": {
        "colab": {
          "base_uri": "https://localhost:8080/"
        },
        "id": "7T01uaSp8fDo",
        "outputId": "d8d12b7a-74ba-4f50-eaf3-8bd2022f998b"
      },
      "id": "7T01uaSp8fDo",
      "execution_count": 14,
      "outputs": [
        {
          "output_type": "stream",
          "name": "stderr",
          "text": [
            "\n",
            "Copying files: 1148 files [20:59,  1.17s/ files]\u001b[A\n",
            "Copying files: 1149 files [21:01,  1.15s/ files]\u001b[A\n",
            "Copying files: 1150 files [21:02,  1.15s/ files]\u001b[A\n",
            "Copying files: 1151 files [21:03,  1.14s/ files]\u001b[A\n",
            "Copying files: 1152 files [21:04,  1.15s/ files]\u001b[A\n",
            "Copying files: 1153 files [21:05,  1.17s/ files]\u001b[A\n",
            "Copying files: 1154 files [21:06,  1.16s/ files]\u001b[A\n",
            "Copying files: 1155 files [21:07,  1.15s/ files]\u001b[A\n",
            "Copying files: 1156 files [21:09,  1.14s/ files]\u001b[A\n",
            "Copying files: 1157 files [21:10,  1.15s/ files]\u001b[A\n",
            "Copying files: 1158 files [21:11,  1.15s/ files]\u001b[A\n",
            "Copying files: 1159 files [21:12,  1.14s/ files]\u001b[A\n",
            "Copying files: 1160 files [21:13,  1.15s/ files]\u001b[A\n",
            "Copying files: 1161 files [21:14,  1.15s/ files]\u001b[A\n",
            "Copying files: 1162 files [21:15,  1.14s/ files]\u001b[A\n",
            "Copying files: 1163 files [21:17,  1.16s/ files]\u001b[A\n",
            "Copying files: 1164 files [21:18,  1.16s/ files]\u001b[A\n",
            "Copying files: 1165 files [21:19,  1.17s/ files]\u001b[A\n",
            "Copying files: 1166 files [21:20,  1.16s/ files]\u001b[A\n",
            "Copying files: 1167 files [21:21,  1.15s/ files]\u001b[A\n",
            "Copying files: 1168 files [21:22,  1.13s/ files]\u001b[A\n",
            "Copying files: 1169 files [21:24,  1.14s/ files]\u001b[A\n",
            "Copying files: 1170 files [21:25,  1.16s/ files]\u001b[A\n",
            "Copying files: 1171 files [21:26,  1.15s/ files]\u001b[A\n",
            "Copying files: 1172 files [21:27,  1.15s/ files]\u001b[A\n",
            "Copying files: 1173 files [21:28,  1.15s/ files]\u001b[A\n",
            "Copying files: 1174 files [21:29,  1.15s/ files]\u001b[A\n",
            "Copying files: 1175 files [21:30,  1.14s/ files]\u001b[A\n",
            "Copying files: 1176 files [21:33,  1.10s/ files]"
          ]
        },
        {
          "output_type": "stream",
          "name": "stdout",
          "text": [
            "done\n"
          ]
        },
        {
          "output_type": "stream",
          "name": "stderr",
          "text": [
            "\n"
          ]
        }
      ]
    },
    {
      "cell_type": "markdown",
      "id": "d25f3d04",
      "metadata": {
        "id": "d25f3d04"
      },
      "source": [
        "Now all images are in the right path. Since we use ceilings to determine the number of images"
      ]
    },
    {
      "cell_type": "markdown",
      "id": "913a3805",
      "metadata": {
        "id": "913a3805"
      },
      "source": [
        "#### (b)iii resize images and one hot encoding by applying 'categorical' to label_mode.\n",
        "\n",
        "#### (c) ii Perform empirical regularization, crop, randomly zoo, rotate, ip, contrast, and translate images in your training set for image augmentation.\n",
        "\n",
        "#### Both done in the same part at below."
      ]
    },
    {
      "cell_type": "markdown",
      "id": "27b0514d",
      "metadata": {
        "id": "27b0514d"
      },
      "source": [
        "reference: https://www.tensorflow.org/api_docs/python/tf/keras/preprocessing/image/ImageDataGenerator"
      ]
    },
    {
      "cell_type": "code",
      "execution_count": 61,
      "id": "d50c6f4e",
      "metadata": {
        "colab": {
          "base_uri": "https://localhost:8080/"
        },
        "id": "d50c6f4e",
        "outputId": "df85f72b-c2f2-4e5d-dbc8-e5255780c253"
      },
      "outputs": [
        {
          "output_type": "stream",
          "name": "stdout",
          "text": [
            "Found 820 images belonging to 20 classes.\n",
            "Found 171 images belonging to 20 classes.\n",
            "success\n"
          ]
        }
      ],
      "source": [
        "from keras.applications.vgg16 import VGG16, preprocess_input\n",
        "image_width, image_height = 224,224 # resize\n",
        "\n",
        "train_datagen = ImageDataGenerator(\n",
        "      #rescale=1./255, \n",
        "      rotation_range=40, # rotate\n",
        "      width_shift_range=0.2,\n",
        "      height_shift_range=0.2,\n",
        "      shear_range=0.2,\n",
        "      zoom_range=0.2,# randomly zoom\n",
        "      horizontal_flip=True,vertical_flip=True, # flip\n",
        "      fill_mode='nearest',brightness_range=(0.1, 0.9) #contrast\n",
        ")\n",
        "\n",
        "test_datagen = ImageDataGenerator(preprocessing_function=preprocess_input)# resize (b)ii\n",
        "\n",
        "train_generator = train_datagen.flow_from_directory(\n",
        "                    \"/content/drive/My Drive/final-project-WilliamLu1999/output/train/\",\n",
        "                    batch_size=5,\n",
        "                    class_mode='categorical', # one hot encoding\n",
        "                    target_size=(image_width, image_height),\n",
        "                    keep_aspect_ratio=True # crop\n",
        ")\n",
        "\n",
        "# not performing image augmentation on validation and testing data\n",
        "validation_generator = test_datagen.flow_from_directory(\n",
        "        '/content/drive/My Drive/final-project-WilliamLu1999/output/val/',\n",
        "        target_size=(image_width, image_height),\n",
        "        batch_size=5,\n",
        "        shuffle=False,\n",
        "        class_mode='categorical')\n",
        "\n",
        "print('success')"
      ]
    },
    {
      "cell_type": "markdown",
      "id": "40c4e6c8",
      "metadata": {
        "id": "40c4e6c8"
      },
      "source": [
        "#### (c) iii Use ReLU activation functions in the last layer and a softmax layer, along with batch normalization and a dropout rate of 20% as well as ADAM optimizer. Use multinomial cross entropy loss\n",
        "reference: https://medium.com/@1297rohit/transfer-learning-from-scratch-using-keras-339834b153b9"
      ]
    },
    {
      "cell_type": "code",
      "execution_count": 62,
      "id": "051e1821",
      "metadata": {
        "colab": {
          "base_uri": "https://localhost:8080/"
        },
        "id": "051e1821",
        "outputId": "aab75b16-a971-4a70-b9b0-76b71c105dcd"
      },
      "outputs": [
        {
          "output_type": "stream",
          "name": "stdout",
          "text": [
            "Model: \"vgg16\"\n",
            "_________________________________________________________________\n",
            " Layer (type)                Output Shape              Param #   \n",
            "=================================================================\n",
            " input_5 (InputLayer)        [(None, 224, 224, 3)]     0         \n",
            "                                                                 \n",
            " block1_conv1 (Conv2D)       (None, 224, 224, 64)      1792      \n",
            "                                                                 \n",
            " block1_conv2 (Conv2D)       (None, 224, 224, 64)      36928     \n",
            "                                                                 \n",
            " block1_pool (MaxPooling2D)  (None, 112, 112, 64)      0         \n",
            "                                                                 \n",
            " block2_conv1 (Conv2D)       (None, 112, 112, 128)     73856     \n",
            "                                                                 \n",
            " block2_conv2 (Conv2D)       (None, 112, 112, 128)     147584    \n",
            "                                                                 \n",
            " block2_pool (MaxPooling2D)  (None, 56, 56, 128)       0         \n",
            "                                                                 \n",
            " block3_conv1 (Conv2D)       (None, 56, 56, 256)       295168    \n",
            "                                                                 \n",
            " block3_conv2 (Conv2D)       (None, 56, 56, 256)       590080    \n",
            "                                                                 \n",
            " block3_conv3 (Conv2D)       (None, 56, 56, 256)       590080    \n",
            "                                                                 \n",
            " block3_pool (MaxPooling2D)  (None, 28, 28, 256)       0         \n",
            "                                                                 \n",
            " block4_conv1 (Conv2D)       (None, 28, 28, 512)       1180160   \n",
            "                                                                 \n",
            " block4_conv2 (Conv2D)       (None, 28, 28, 512)       2359808   \n",
            "                                                                 \n",
            " block4_conv3 (Conv2D)       (None, 28, 28, 512)       2359808   \n",
            "                                                                 \n",
            " block4_pool (MaxPooling2D)  (None, 14, 14, 512)       0         \n",
            "                                                                 \n",
            " block5_conv1 (Conv2D)       (None, 14, 14, 512)       2359808   \n",
            "                                                                 \n",
            " block5_conv2 (Conv2D)       (None, 14, 14, 512)       2359808   \n",
            "                                                                 \n",
            " block5_conv3 (Conv2D)       (None, 14, 14, 512)       2359808   \n",
            "                                                                 \n",
            " block5_pool (MaxPooling2D)  (None, 7, 7, 512)         0         \n",
            "                                                                 \n",
            "=================================================================\n",
            "Total params: 14,714,688\n",
            "Trainable params: 0\n",
            "Non-trainable params: 14,714,688\n",
            "_________________________________________________________________\n"
          ]
        }
      ],
      "source": [
        "pre_trained_vgg16 = VGG16(\n",
        "    input_shape=(image_width,image_height,3),\n",
        "    include_top=False, #no weights will be downloaded for dense layers\n",
        "    weights=\"imagenet\"\n",
        ")\n",
        "\n",
        "for layer in pre_trained_vgg16.layers:\n",
        "    layer.trainable=False\n",
        "    \n",
        "pre_trained_vgg16.summary()"
      ]
    },
    {
      "cell_type": "code",
      "execution_count": 63,
      "id": "0c64d0e2",
      "metadata": {
        "scrolled": false,
        "id": "0c64d0e2"
      },
      "outputs": [],
      "source": [
        "from tensorflow.keras.layers import Dropout, Flatten, Dense, BatchNormalization, Softmax\n",
        "\n",
        "vgg_16_model = tf.keras.models.Sequential([\n",
        "    pre_trained_vgg16,\n",
        "    Dropout(0.2), # dropout of 20%\n",
        "    Flatten(),\n",
        "    Dense(256,activation=\"relu\"),    \n",
        "    #Dense(256,activation=\"relu\"),\n",
        "    BatchNormalization(),\n",
        "    #Dropout(0.2), # dropout of 20%\n",
        "    Dense(20, activation='softmax'), # 20 classes\n",
        "    Softmax()\n",
        "])"
      ]
    },
    {
      "cell_type": "code",
      "execution_count": 64,
      "id": "3ca65e28",
      "metadata": {
        "colab": {
          "base_uri": "https://localhost:8080/"
        },
        "id": "3ca65e28",
        "outputId": "e1927aa5-0c3c-4da4-82c3-45976e6535a5"
      },
      "outputs": [
        {
          "output_type": "stream",
          "name": "stdout",
          "text": [
            "Model: \"sequential_3\"\n",
            "_________________________________________________________________\n",
            " Layer (type)                Output Shape              Param #   \n",
            "=================================================================\n",
            " vgg16 (Functional)          (None, 7, 7, 512)         14714688  \n",
            "                                                                 \n",
            " dropout_4 (Dropout)         (None, 7, 7, 512)         0         \n",
            "                                                                 \n",
            " flatten_4 (Flatten)         (None, 25088)             0         \n",
            "                                                                 \n",
            " dense_8 (Dense)             (None, 256)               6422784   \n",
            "                                                                 \n",
            " batch_normalization_4 (Batc  (None, 256)              1024      \n",
            " hNormalization)                                                 \n",
            "                                                                 \n",
            " dense_9 (Dense)             (None, 20)                5140      \n",
            "                                                                 \n",
            " softmax_4 (Softmax)         (None, 20)                0         \n",
            "                                                                 \n",
            "=================================================================\n",
            "Total params: 21,143,636\n",
            "Trainable params: 6,428,436\n",
            "Non-trainable params: 14,715,200\n",
            "_________________________________________________________________\n"
          ]
        }
      ],
      "source": [
        "vgg_16_model.compile(\n",
        "            optimizer=\"adam\",\n",
        "            loss='categorical_crossentropy',\n",
        "            metrics = ['accuracy']\n",
        ")\n",
        "vgg_16_model.summary()"
      ]
    },
    {
      "cell_type": "code",
      "execution_count": 65,
      "id": "53c063f7",
      "metadata": {
        "id": "53c063f7"
      },
      "outputs": [],
      "source": [
        "# early stopping\n",
        "from keras.callbacks import EarlyStopping\n",
        "early = EarlyStopping(monitor='val_accuracy', min_delta=0, patience=50, verbose=0, mode='auto')"
      ]
    },
    {
      "cell_type": "code",
      "execution_count": 66,
      "id": "bc914d25",
      "metadata": {
        "colab": {
          "base_uri": "https://localhost:8080/"
        },
        "id": "bc914d25",
        "outputId": "b2cc7e1f-f11d-4c05-acfe-1d9b33d4915d"
      },
      "outputs": [
        {
          "output_type": "stream",
          "name": "stdout",
          "text": [
            "Epoch 1/100\n"
          ]
        },
        {
          "output_type": "stream",
          "name": "stderr",
          "text": [
            "<ipython-input-66-77958f5ec5fc>:2: UserWarning: `Model.fit_generator` is deprecated and will be removed in a future version. Please use `Model.fit`, which supports generators.\n",
            "  first = vgg_16_model.fit_generator(generator= train_generator, epochs= 100,\n"
          ]
        },
        {
          "output_type": "stream",
          "name": "stdout",
          "text": [
            "164/164 [==============================] - 16s 94ms/step - loss: 2.9241 - accuracy: 0.1549 - val_loss: 2.8351 - val_accuracy: 0.2398\n",
            "Epoch 2/100\n",
            "164/164 [==============================] - 15s 93ms/step - loss: 2.8329 - accuracy: 0.2780 - val_loss: 2.7512 - val_accuracy: 0.3275\n",
            "Epoch 3/100\n",
            "164/164 [==============================] - 15s 92ms/step - loss: 2.7436 - accuracy: 0.3939 - val_loss: 2.6878 - val_accuracy: 0.3743\n",
            "Epoch 4/100\n",
            "164/164 [==============================] - 15s 92ms/step - loss: 2.6895 - accuracy: 0.4293 - val_loss: 2.6181 - val_accuracy: 0.4795\n",
            "Epoch 5/100\n",
            "164/164 [==============================] - 15s 91ms/step - loss: 2.6728 - accuracy: 0.4512 - val_loss: 2.5889 - val_accuracy: 0.4854\n",
            "Epoch 6/100\n",
            "164/164 [==============================] - 15s 91ms/step - loss: 2.6442 - accuracy: 0.4854 - val_loss: 2.6009 - val_accuracy: 0.4912\n",
            "Epoch 7/100\n",
            "164/164 [==============================] - 15s 92ms/step - loss: 2.5996 - accuracy: 0.5390 - val_loss: 2.5789 - val_accuracy: 0.5146\n",
            "Epoch 8/100\n",
            "164/164 [==============================] - 15s 94ms/step - loss: 2.5939 - accuracy: 0.5244 - val_loss: 2.6029 - val_accuracy: 0.4678\n",
            "Epoch 9/100\n",
            "164/164 [==============================] - 15s 93ms/step - loss: 2.5639 - accuracy: 0.5780 - val_loss: 2.6065 - val_accuracy: 0.4795\n",
            "Epoch 10/100\n",
            "164/164 [==============================] - 15s 93ms/step - loss: 2.5509 - accuracy: 0.5817 - val_loss: 2.6102 - val_accuracy: 0.4678\n",
            "Epoch 11/100\n",
            "164/164 [==============================] - 15s 92ms/step - loss: 2.5472 - accuracy: 0.5768 - val_loss: 2.5327 - val_accuracy: 0.5439\n",
            "Epoch 12/100\n",
            "164/164 [==============================] - 15s 93ms/step - loss: 2.5269 - accuracy: 0.5890 - val_loss: 2.5707 - val_accuracy: 0.5088\n",
            "Epoch 13/100\n",
            "164/164 [==============================] - 15s 92ms/step - loss: 2.5143 - accuracy: 0.5988 - val_loss: 2.5759 - val_accuracy: 0.4854\n",
            "Epoch 14/100\n",
            "164/164 [==============================] - 15s 92ms/step - loss: 2.5017 - accuracy: 0.6268 - val_loss: 2.5864 - val_accuracy: 0.4854\n",
            "Epoch 15/100\n",
            "164/164 [==============================] - 15s 92ms/step - loss: 2.4857 - accuracy: 0.6512 - val_loss: 2.5619 - val_accuracy: 0.5146\n",
            "Epoch 16/100\n",
            "164/164 [==============================] - 15s 92ms/step - loss: 2.4881 - accuracy: 0.6451 - val_loss: 2.5591 - val_accuracy: 0.5205\n",
            "Epoch 17/100\n",
            "164/164 [==============================] - 15s 92ms/step - loss: 2.4577 - accuracy: 0.6817 - val_loss: 2.6153 - val_accuracy: 0.4444\n",
            "Epoch 18/100\n",
            "164/164 [==============================] - 15s 92ms/step - loss: 2.4412 - accuracy: 0.7000 - val_loss: 2.5893 - val_accuracy: 0.5029\n",
            "Epoch 19/100\n",
            "164/164 [==============================] - 15s 92ms/step - loss: 2.4520 - accuracy: 0.6707 - val_loss: 2.6771 - val_accuracy: 0.3860\n",
            "Epoch 20/100\n",
            "164/164 [==============================] - 15s 93ms/step - loss: 2.4674 - accuracy: 0.6427 - val_loss: 2.6003 - val_accuracy: 0.4795\n",
            "Epoch 21/100\n",
            "164/164 [==============================] - 15s 92ms/step - loss: 2.4664 - accuracy: 0.6463 - val_loss: 2.5915 - val_accuracy: 0.4854\n",
            "Epoch 22/100\n",
            "164/164 [==============================] - 15s 92ms/step - loss: 2.4535 - accuracy: 0.6561 - val_loss: 2.6310 - val_accuracy: 0.4386\n",
            "Epoch 23/100\n",
            "164/164 [==============================] - 15s 92ms/step - loss: 2.4449 - accuracy: 0.6622 - val_loss: 2.5999 - val_accuracy: 0.4678\n",
            "Epoch 24/100\n",
            "164/164 [==============================] - 15s 92ms/step - loss: 2.4264 - accuracy: 0.6963 - val_loss: 2.5682 - val_accuracy: 0.5088\n",
            "Epoch 25/100\n",
            "164/164 [==============================] - 15s 91ms/step - loss: 2.4346 - accuracy: 0.6768 - val_loss: 2.6148 - val_accuracy: 0.4620\n",
            "Epoch 26/100\n",
            "164/164 [==============================] - 15s 91ms/step - loss: 2.4559 - accuracy: 0.6500 - val_loss: 2.6239 - val_accuracy: 0.4561\n",
            "Epoch 27/100\n",
            "164/164 [==============================] - 15s 92ms/step - loss: 2.4270 - accuracy: 0.6841 - val_loss: 2.6284 - val_accuracy: 0.4561\n",
            "Epoch 28/100\n",
            "164/164 [==============================] - 15s 91ms/step - loss: 2.4373 - accuracy: 0.6646 - val_loss: 2.6280 - val_accuracy: 0.4561\n",
            "Epoch 29/100\n",
            "164/164 [==============================] - 15s 91ms/step - loss: 2.4118 - accuracy: 0.6963 - val_loss: 2.6132 - val_accuracy: 0.4620\n",
            "Epoch 30/100\n",
            "164/164 [==============================] - 15s 92ms/step - loss: 2.4138 - accuracy: 0.7037 - val_loss: 2.6448 - val_accuracy: 0.4269\n",
            "Epoch 31/100\n",
            "164/164 [==============================] - 15s 92ms/step - loss: 2.4174 - accuracy: 0.6841 - val_loss: 2.6522 - val_accuracy: 0.4094\n",
            "Epoch 32/100\n",
            "164/164 [==============================] - 15s 91ms/step - loss: 2.4174 - accuracy: 0.6841 - val_loss: 2.6328 - val_accuracy: 0.4386\n",
            "Epoch 33/100\n",
            "164/164 [==============================] - 15s 91ms/step - loss: 2.4251 - accuracy: 0.6878 - val_loss: 2.5734 - val_accuracy: 0.4971\n",
            "Epoch 34/100\n",
            "164/164 [==============================] - 15s 92ms/step - loss: 2.4012 - accuracy: 0.7049 - val_loss: 2.5796 - val_accuracy: 0.5146\n",
            "Epoch 35/100\n",
            "164/164 [==============================] - 15s 91ms/step - loss: 2.3882 - accuracy: 0.7244 - val_loss: 2.6157 - val_accuracy: 0.4678\n",
            "Epoch 36/100\n",
            "164/164 [==============================] - 15s 91ms/step - loss: 2.4238 - accuracy: 0.6768 - val_loss: 2.5932 - val_accuracy: 0.4795\n",
            "Epoch 37/100\n",
            "164/164 [==============================] - 15s 92ms/step - loss: 2.4103 - accuracy: 0.6890 - val_loss: 2.6140 - val_accuracy: 0.4737\n",
            "Epoch 38/100\n",
            "164/164 [==============================] - 15s 92ms/step - loss: 2.4153 - accuracy: 0.6890 - val_loss: 2.6220 - val_accuracy: 0.4561\n",
            "Epoch 39/100\n",
            "164/164 [==============================] - 15s 91ms/step - loss: 2.4113 - accuracy: 0.6878 - val_loss: 2.6520 - val_accuracy: 0.4211\n",
            "Epoch 40/100\n",
            "164/164 [==============================] - 15s 92ms/step - loss: 2.4108 - accuracy: 0.6951 - val_loss: 2.6655 - val_accuracy: 0.4269\n",
            "Epoch 41/100\n",
            "164/164 [==============================] - 15s 91ms/step - loss: 2.3996 - accuracy: 0.6976 - val_loss: 2.6234 - val_accuracy: 0.4503\n",
            "Epoch 42/100\n",
            "164/164 [==============================] - 15s 92ms/step - loss: 2.3836 - accuracy: 0.7183 - val_loss: 2.6261 - val_accuracy: 0.4444\n",
            "Epoch 43/100\n",
            "164/164 [==============================] - 15s 94ms/step - loss: 2.3934 - accuracy: 0.7122 - val_loss: 2.6577 - val_accuracy: 0.4269\n",
            "Epoch 44/100\n",
            "164/164 [==============================] - 15s 92ms/step - loss: 2.3982 - accuracy: 0.6988 - val_loss: 2.6446 - val_accuracy: 0.4327\n",
            "Epoch 45/100\n",
            "164/164 [==============================] - 15s 92ms/step - loss: 2.3927 - accuracy: 0.7049 - val_loss: 2.6369 - val_accuracy: 0.4386\n",
            "Epoch 46/100\n",
            "164/164 [==============================] - 15s 92ms/step - loss: 2.3839 - accuracy: 0.7134 - val_loss: 2.6262 - val_accuracy: 0.4503\n",
            "Epoch 47/100\n",
            "164/164 [==============================] - 15s 92ms/step - loss: 2.3587 - accuracy: 0.7524 - val_loss: 2.6429 - val_accuracy: 0.4327\n",
            "Epoch 48/100\n",
            "164/164 [==============================] - 15s 92ms/step - loss: 2.3760 - accuracy: 0.7171 - val_loss: 2.5945 - val_accuracy: 0.4795\n",
            "Epoch 49/100\n",
            "164/164 [==============================] - 15s 91ms/step - loss: 2.3624 - accuracy: 0.7402 - val_loss: 2.5806 - val_accuracy: 0.4971\n",
            "Epoch 50/100\n",
            "164/164 [==============================] - 15s 91ms/step - loss: 2.3683 - accuracy: 0.7293 - val_loss: 2.5823 - val_accuracy: 0.4971\n",
            "Epoch 51/100\n",
            "164/164 [==============================] - 15s 91ms/step - loss: 2.3748 - accuracy: 0.7256 - val_loss: 2.5949 - val_accuracy: 0.4737\n",
            "Epoch 52/100\n",
            "164/164 [==============================] - 15s 92ms/step - loss: 2.3874 - accuracy: 0.7110 - val_loss: 2.5945 - val_accuracy: 0.4737\n",
            "Epoch 53/100\n",
            "164/164 [==============================] - 15s 91ms/step - loss: 2.3734 - accuracy: 0.7232 - val_loss: 2.6168 - val_accuracy: 0.4620\n",
            "Epoch 54/100\n",
            "164/164 [==============================] - 15s 91ms/step - loss: 2.3592 - accuracy: 0.7366 - val_loss: 2.6138 - val_accuracy: 0.4678\n",
            "Epoch 55/100\n",
            "164/164 [==============================] - 15s 92ms/step - loss: 2.3525 - accuracy: 0.7463 - val_loss: 2.5973 - val_accuracy: 0.4795\n",
            "Epoch 56/100\n",
            "164/164 [==============================] - 15s 93ms/step - loss: 2.3717 - accuracy: 0.7244 - val_loss: 2.6181 - val_accuracy: 0.4503\n",
            "Epoch 57/100\n",
            "164/164 [==============================] - 15s 92ms/step - loss: 2.3695 - accuracy: 0.7207 - val_loss: 2.6276 - val_accuracy: 0.4444\n",
            "Epoch 58/100\n",
            "164/164 [==============================] - 15s 92ms/step - loss: 2.3634 - accuracy: 0.7378 - val_loss: 2.6154 - val_accuracy: 0.4503\n",
            "Epoch 59/100\n",
            "164/164 [==============================] - 15s 93ms/step - loss: 2.3568 - accuracy: 0.7415 - val_loss: 2.5939 - val_accuracy: 0.4854\n",
            "Epoch 60/100\n",
            "164/164 [==============================] - 15s 92ms/step - loss: 2.3517 - accuracy: 0.7415 - val_loss: 2.5870 - val_accuracy: 0.4971\n",
            "Epoch 61/100\n",
            "164/164 [==============================] - 15s 92ms/step - loss: 2.3458 - accuracy: 0.7427 - val_loss: 2.5987 - val_accuracy: 0.4795\n"
          ]
        }
      ],
      "source": [
        "# fit generator\n",
        "first = vgg_16_model.fit_generator(generator= train_generator, epochs= 100, \n",
        "                          validation_data= validation_generator,callbacks=[early])"
      ]
    },
    {
      "cell_type": "code",
      "source": [
        "import matplotlib.pyplot as plt\n",
        "\n",
        "acc      = first.history['accuracy']\n",
        "val_acc  = first.history['val_accuracy']\n",
        "loss     = first.history['loss']\n",
        "val_loss = first.history['val_loss']\n",
        "\n",
        "epochs   = range(len(acc))\n",
        "\n",
        "\n",
        "# Plot training and validation accuracy per epoch\n",
        "plt.plot(epochs,acc)\n",
        "plt.plot(epochs,val_acc)\n",
        "plt.title('Training and validation accuracy')\n",
        "plt.figure()\n",
        "\n",
        "# Plot training and validation loss per epoch\n",
        "plt.plot(epochs,loss)\n",
        "plt.plot(epochs,val_loss)\n",
        "plt.title('Training and validation loss')"
      ],
      "metadata": {
        "colab": {
          "base_uri": "https://localhost:8080/",
          "height": 562
        },
        "id": "HjlxoOtlZ-mP",
        "outputId": "58686e2c-481a-42e5-d59d-9cc563d0dc86"
      },
      "id": "HjlxoOtlZ-mP",
      "execution_count": 67,
      "outputs": [
        {
          "output_type": "execute_result",
          "data": {
            "text/plain": [
              "Text(0.5, 1.0, 'Training and validation loss')"
            ]
          },
          "metadata": {},
          "execution_count": 67
        },
        {
          "output_type": "display_data",
          "data": {
            "text/plain": [
              "<Figure size 432x288 with 1 Axes>"
            ],
            "image/png": "[encoded data removed]"
          },
          "metadata": {
            "needs_background": "light"
          }
        },
        {
          "output_type": "display_data",
          "data": {
            "text/plain": [
              "<Figure size 432x288 with 1 Axes>"
            ],
            "image/png": "[encoded data removed]"
          },
          "metadata": {
            "needs_background": "light"
          }
        }
      ]
    },
    {
      "cell_type": "code",
      "execution_count": 68,
      "id": "b20bf89d",
      "metadata": {
        "id": "b20bf89d"
      },
      "outputs": [],
      "source": [
        "vgg_16_model.save_weights(\"vgg_16_model.h5\")"
      ]
    },
    {
      "cell_type": "code",
      "source": [
        "test_generator = test_datagen.flow_from_directory(\n",
        "                    \"/content/drive/My Drive/final-project-WilliamLu1999/output/test/\",\n",
        "                    batch_size=5, \n",
        "                    class_mode='categorical', # set to None maybe?\n",
        "                    shuffle=False,\n",
        "                    target_size=(image_width, image_height)\n",
        ")"
      ],
      "metadata": {
        "colab": {
          "base_uri": "https://localhost:8080/"
        },
        "id": "Aq9pc9DyFzk2",
        "outputId": "3836d1b7-f485-418b-f0e2-254703efd7cf"
      },
      "id": "Aq9pc9DyFzk2",
      "execution_count": 69,
      "outputs": [
        {
          "output_type": "stream",
          "name": "stdout",
          "text": [
            "Found 185 images belonging to 20 classes.\n"
          ]
        }
      ]
    },
    {
      "cell_type": "code",
      "source": [
        "pred = vgg_16_model.predict_generator(test_generator,verbose=1)"
      ],
      "metadata": {
        "colab": {
          "base_uri": "https://localhost:8080/"
        },
        "id": "JHDqPH64F4_Q",
        "outputId": "d6a4df51-a90f-44a9-e12d-120be4bf272d"
      },
      "id": "JHDqPH64F4_Q",
      "execution_count": 70,
      "outputs": [
        {
          "output_type": "stream",
          "name": "stderr",
          "text": [
            "<ipython-input-70-2e6aaf6931f6>:1: UserWarning: `Model.predict_generator` is deprecated and will be removed in a future version. Please use `Model.predict`, which supports generators.\n",
            "  pred = vgg_16_model.predict_generator(test_generator,verbose=1)\n"
          ]
        },
        {
          "output_type": "stream",
          "name": "stdout",
          "text": [
            "37/37 [==============================] - 1s 30ms/step\n"
          ]
        }
      ]
    },
    {
      "cell_type": "code",
      "source": [
        "predIdxs = np.argmax(pred, axis=1)\n",
        "from sklearn.metrics import classification_report\n",
        "print(classification_report(test_generator.labels, predIdxs,target_names=['class '+str(i) for i in range(0,20)]))"
      ],
      "metadata": {
        "colab": {
          "base_uri": "https://localhost:8080/"
        },
        "id": "9QIrJ14EPC-C",
        "outputId": "2dddce9b-efcd-4c95-dc43-5992315e79f8"
      },
      "id": "9QIrJ14EPC-C",
      "execution_count": 71,
      "outputs": [
        {
          "output_type": "stream",
          "name": "stdout",
          "text": [
            "              precision    recall  f1-score   support\n",
            "\n",
            "     class 0       1.00      0.38      0.55         8\n",
            "     class 1       0.83      0.56      0.67         9\n",
            "     class 2       0.13      0.70      0.23        10\n",
            "     class 3       0.70      0.70      0.70        10\n",
            "     class 4       0.80      0.44      0.57         9\n",
            "     class 5       0.50      0.22      0.31         9\n",
            "     class 6       0.89      0.89      0.89         9\n",
            "     class 7       0.64      0.78      0.70         9\n",
            "     class 8       0.55      0.67      0.60         9\n",
            "     class 9       0.80      0.89      0.84         9\n",
            "    class 10       0.44      0.44      0.44         9\n",
            "    class 11       0.86      0.67      0.75         9\n",
            "    class 12       1.00      0.22      0.36         9\n",
            "    class 13       0.75      0.67      0.71         9\n",
            "    class 14       0.71      0.56      0.63         9\n",
            "    class 15       1.00      0.30      0.46        10\n",
            "    class 16       0.91      1.00      0.95        10\n",
            "    class 17       0.29      0.20      0.24        10\n",
            "    class 18       0.00      0.00      0.00         9\n",
            "    class 19       0.43      0.30      0.35        10\n",
            "\n",
            "    accuracy                           0.53       185\n",
            "   macro avg       0.66      0.53      0.55       185\n",
            "weighted avg       0.66      0.53      0.55       185\n",
            "\n"
          ]
        }
      ]
    },
    {
      "cell_type": "code",
      "source": [
        "from tensorflow.keras.applications.efficientnet import EfficientNetB0, preprocess_input, decode_predictions\n",
        "pre_trained_ENB = EfficientNetB0(include_top=False, weights='imagenet', input_shape=(image_width, image_height, 3))"
      ],
      "metadata": {
        "id": "qEohJ_3SQKpP"
      },
      "id": "qEohJ_3SQKpP",
      "execution_count": 72,
      "outputs": []
    },
    {
      "cell_type": "code",
      "source": [
        "for layer in pre_trained_ENB.layers:\n",
        "    layer.trainable=False"
      ],
      "metadata": {
        "id": "Gd2bM-GiUGw-"
      },
      "id": "Gd2bM-GiUGw-",
      "execution_count": 73,
      "outputs": []
    },
    {
      "cell_type": "code",
      "source": [
        "from tensorflow.keras.layers import Dropout, Flatten, Dense, BatchNormalization, Softmax\n",
        "\n",
        "ENB_model = tf.keras.models.Sequential([\n",
        "    pre_trained_ENB,\n",
        "    Dropout(0.2), # dropout of 20%\n",
        "    Flatten(),\n",
        "    Dense(256,activation=\"relu\"),    \n",
        "    #Dense(256,activation=\"relu\"),\n",
        "    BatchNormalization(),\n",
        "    #Dropout(0.2), # dropout of 20%\n",
        "    Dense(20, activation='softmax'), # 20 classes\n",
        "    Softmax()\n",
        "])"
      ],
      "metadata": {
        "id": "u0wqXiNxTxZ7"
      },
      "id": "u0wqXiNxTxZ7",
      "execution_count": 74,
      "outputs": []
    },
    {
      "cell_type": "code",
      "source": [
        "ENB_model.compile(optimizer=\"adam\",\n",
        "              loss=\"categorical_crossentropy\",\n",
        "              metrics=[\"accuracy\"])"
      ],
      "metadata": {
        "id": "LJcCXORfXTHe"
      },
      "id": "LJcCXORfXTHe",
      "execution_count": 75,
      "outputs": []
    },
    {
      "cell_type": "code",
      "source": [
        "ENB_model.summary()"
      ],
      "metadata": {
        "colab": {
          "base_uri": "https://localhost:8080/"
        },
        "id": "wCVbLOs_X8y6",
        "outputId": "4844997a-0915-4302-b335-bb2905b6e08b"
      },
      "id": "wCVbLOs_X8y6",
      "execution_count": 79,
      "outputs": [
        {
          "output_type": "stream",
          "name": "stdout",
          "text": [
            "Model: \"sequential_4\"\n",
            "_________________________________________________________________\n",
            " Layer (type)                Output Shape              Param #   \n",
            "=================================================================\n",
            " efficientnetb0 (Functional)  (None, 7, 7, 1280)       4049571   \n",
            "                                                                 \n",
            " dropout_5 (Dropout)         (None, 7, 7, 1280)        0         \n",
            "                                                                 \n",
            " flatten_5 (Flatten)         (None, 62720)             0         \n",
            "                                                                 \n",
            " dense_10 (Dense)            (None, 256)               16056576  \n",
            "                                                                 \n",
            " batch_normalization_5 (Batc  (None, 256)              1024      \n",
            " hNormalization)                                                 \n",
            "                                                                 \n",
            " dense_11 (Dense)            (None, 20)                5140      \n",
            "                                                                 \n",
            " softmax_5 (Softmax)         (None, 20)                0         \n",
            "                                                                 \n",
            "=================================================================\n",
            "Total params: 20,112,311\n",
            "Trainable params: 16,062,228\n",
            "Non-trainable params: 4,050,083\n",
            "_________________________________________________________________\n"
          ]
        }
      ]
    },
    {
      "cell_type": "code",
      "source": [
        "datagen_2 = ImageDataGenerator(\n",
        "      rotation_range=40, # rotate\n",
        "      width_shift_range=0.2,\n",
        "      height_shift_range=0.2,\n",
        "      shear_range=0.2,\n",
        "      zoom_range=0.2,# randomly zoom\n",
        "      horizontal_flip=True,vertical_flip=True, # flip\n",
        "      fill_mode='nearest',brightness_range=(0.1, 0.9) #contrast\n",
        ")\n",
        "test_datagen_2 = ImageDataGenerator()\n",
        "\n",
        "train_generator_2 = datagen_2.flow_from_directory(\n",
        "    \"/content/drive/My Drive/final-project-WilliamLu1999/output/train/\",\n",
        "        target_size=(image_width, image_height),\n",
        "        keep_aspect_ratio=True, # crop\n",
        "        batch_size=5,\n",
        "        class_mode='categorical',\n",
        "        shuffle=True\n",
        ")\n",
        "\n",
        "val_generator_2 = test_datagen_2.flow_from_directory(\n",
        "    '/content/drive/My Drive/final-project-WilliamLu1999/output/val/',\n",
        "        target_size=(image_width, image_height),\n",
        "        batch_size=5,\n",
        "        class_mode='categorical',\n",
        "        shuffle=False\n",
        ")\n",
        "\n",
        "print('success')"
      ],
      "metadata": {
        "colab": {
          "base_uri": "https://localhost:8080/"
        },
        "id": "zUoA4iNj9W1g",
        "outputId": "20f09ce4-d6f0-40a9-a6b7-1bf790a28f00"
      },
      "id": "zUoA4iNj9W1g",
      "execution_count": 80,
      "outputs": [
        {
          "output_type": "stream",
          "name": "stdout",
          "text": [
            "Found 820 images belonging to 20 classes.\n",
            "Found 171 images belonging to 20 classes.\n",
            "success\n"
          ]
        }
      ]
    },
    {
      "cell_type": "code",
      "source": [
        "second = ENB_model.fit_generator(generator= train_generator_2, epochs= 100, \n",
        "                          validation_data= val_generator_2,callbacks=[early])"
      ],
      "metadata": {
        "colab": {
          "base_uri": "https://localhost:8080/"
        },
        "id": "zXdT7XHLYFAF",
        "outputId": "2039ecbf-6b92-45c3-dd76-0311a8592423"
      },
      "id": "zXdT7XHLYFAF",
      "execution_count": 81,
      "outputs": [
        {
          "output_type": "stream",
          "name": "stdout",
          "text": [
            "Epoch 1/100\n"
          ]
        },
        {
          "output_type": "stream",
          "name": "stderr",
          "text": [
            "<ipython-input-81-9d534c2459a7>:1: UserWarning: `Model.fit_generator` is deprecated and will be removed in a future version. Please use `Model.fit`, which supports generators.\n",
            "  second = ENB_model.fit_generator(generator= train_generator_2, epochs= 100,\n"
          ]
        },
        {
          "output_type": "stream",
          "name": "stdout",
          "text": [
            "164/164 [==============================] - 22s 100ms/step - loss: 2.8891 - accuracy: 0.2037 - val_loss: 2.7411 - val_accuracy: 0.3333\n",
            "Epoch 2/100\n",
            "164/164 [==============================] - 15s 93ms/step - loss: 2.7253 - accuracy: 0.3671 - val_loss: 2.4868 - val_accuracy: 0.5965\n",
            "Epoch 3/100\n",
            "164/164 [==============================] - 15s 92ms/step - loss: 2.6329 - accuracy: 0.4841 - val_loss: 2.4971 - val_accuracy: 0.5906\n",
            "Epoch 4/100\n",
            "164/164 [==============================] - 15s 92ms/step - loss: 2.5535 - accuracy: 0.5573 - val_loss: 2.4550 - val_accuracy: 0.6199\n",
            "Epoch 5/100\n",
            "164/164 [==============================] - 15s 93ms/step - loss: 2.5463 - accuracy: 0.5549 - val_loss: 2.3864 - val_accuracy: 0.7018\n",
            "Epoch 6/100\n",
            "164/164 [==============================] - 15s 92ms/step - loss: 2.4838 - accuracy: 0.6207 - val_loss: 2.3120 - val_accuracy: 0.8070\n",
            "Epoch 7/100\n",
            "164/164 [==============================] - 15s 92ms/step - loss: 2.4626 - accuracy: 0.6378 - val_loss: 2.3129 - val_accuracy: 0.7895\n",
            "Epoch 8/100\n",
            "164/164 [==============================] - 15s 92ms/step - loss: 2.4274 - accuracy: 0.6829 - val_loss: 2.3297 - val_accuracy: 0.7778\n",
            "Epoch 9/100\n",
            "164/164 [==============================] - 15s 92ms/step - loss: 2.4314 - accuracy: 0.6744 - val_loss: 2.3262 - val_accuracy: 0.7661\n",
            "Epoch 10/100\n",
            "164/164 [==============================] - 15s 92ms/step - loss: 2.3949 - accuracy: 0.7171 - val_loss: 2.3214 - val_accuracy: 0.7778\n",
            "Epoch 11/100\n",
            "164/164 [==============================] - 15s 93ms/step - loss: 2.4025 - accuracy: 0.7049 - val_loss: 2.2768 - val_accuracy: 0.8070\n",
            "Epoch 12/100\n",
            "164/164 [==============================] - 15s 93ms/step - loss: 2.3793 - accuracy: 0.7341 - val_loss: 2.2465 - val_accuracy: 0.8421\n",
            "Epoch 13/100\n",
            "164/164 [==============================] - 15s 94ms/step - loss: 2.3418 - accuracy: 0.7646 - val_loss: 2.2675 - val_accuracy: 0.8070\n",
            "Epoch 14/100\n",
            "164/164 [==============================] - 15s 93ms/step - loss: 2.3659 - accuracy: 0.7354 - val_loss: 2.2828 - val_accuracy: 0.8070\n",
            "Epoch 15/100\n",
            "164/164 [==============================] - 15s 93ms/step - loss: 2.3356 - accuracy: 0.7744 - val_loss: 2.2582 - val_accuracy: 0.8246\n",
            "Epoch 16/100\n",
            "164/164 [==============================] - 15s 93ms/step - loss: 2.3392 - accuracy: 0.7598 - val_loss: 2.2565 - val_accuracy: 0.8187\n",
            "Epoch 17/100\n",
            "164/164 [==============================] - 15s 93ms/step - loss: 2.3410 - accuracy: 0.7585 - val_loss: 2.2560 - val_accuracy: 0.8246\n",
            "Epoch 18/100\n",
            "164/164 [==============================] - 15s 93ms/step - loss: 2.3439 - accuracy: 0.7476 - val_loss: 2.2515 - val_accuracy: 0.8421\n",
            "Epoch 19/100\n",
            "164/164 [==============================] - 15s 93ms/step - loss: 2.3451 - accuracy: 0.7524 - val_loss: 2.2586 - val_accuracy: 0.8187\n",
            "Epoch 20/100\n",
            "164/164 [==============================] - 15s 93ms/step - loss: 2.3276 - accuracy: 0.7720 - val_loss: 2.2418 - val_accuracy: 0.8480\n",
            "Epoch 21/100\n",
            "164/164 [==============================] - 15s 93ms/step - loss: 2.3272 - accuracy: 0.7610 - val_loss: 2.2325 - val_accuracy: 0.8480\n",
            "Epoch 22/100\n",
            "164/164 [==============================] - 15s 93ms/step - loss: 2.3282 - accuracy: 0.7720 - val_loss: 2.2357 - val_accuracy: 0.8421\n",
            "Epoch 23/100\n",
            "164/164 [==============================] - 15s 93ms/step - loss: 2.3067 - accuracy: 0.7878 - val_loss: 2.2275 - val_accuracy: 0.8596\n",
            "Epoch 24/100\n",
            "164/164 [==============================] - 15s 92ms/step - loss: 2.3282 - accuracy: 0.7659 - val_loss: 2.2352 - val_accuracy: 0.8480\n",
            "Epoch 25/100\n",
            "164/164 [==============================] - 15s 93ms/step - loss: 2.3050 - accuracy: 0.7817 - val_loss: 2.2241 - val_accuracy: 0.8713\n",
            "Epoch 26/100\n",
            "164/164 [==============================] - 15s 93ms/step - loss: 2.3030 - accuracy: 0.7963 - val_loss: 2.2413 - val_accuracy: 0.8246\n",
            "Epoch 27/100\n",
            "164/164 [==============================] - 15s 93ms/step - loss: 2.2976 - accuracy: 0.7963 - val_loss: 2.2374 - val_accuracy: 0.8480\n",
            "Epoch 28/100\n",
            "164/164 [==============================] - 15s 91ms/step - loss: 2.2964 - accuracy: 0.7915 - val_loss: 2.2546 - val_accuracy: 0.8246\n",
            "Epoch 29/100\n",
            "164/164 [==============================] - 15s 92ms/step - loss: 2.3135 - accuracy: 0.7805 - val_loss: 2.2496 - val_accuracy: 0.8363\n",
            "Epoch 30/100\n",
            "164/164 [==============================] - 15s 91ms/step - loss: 2.2700 - accuracy: 0.8171 - val_loss: 2.2374 - val_accuracy: 0.8538\n",
            "Epoch 31/100\n",
            "164/164 [==============================] - 15s 92ms/step - loss: 2.2663 - accuracy: 0.8329 - val_loss: 2.2099 - val_accuracy: 0.8830\n",
            "Epoch 32/100\n",
            "164/164 [==============================] - 15s 91ms/step - loss: 2.2819 - accuracy: 0.8171 - val_loss: 2.2282 - val_accuracy: 0.8596\n",
            "Epoch 33/100\n",
            "164/164 [==============================] - 15s 92ms/step - loss: 2.2875 - accuracy: 0.7988 - val_loss: 2.2297 - val_accuracy: 0.8596\n",
            "Epoch 34/100\n",
            "164/164 [==============================] - 15s 92ms/step - loss: 2.2757 - accuracy: 0.8146 - val_loss: 2.2135 - val_accuracy: 0.8772\n",
            "Epoch 35/100\n",
            "164/164 [==============================] - 15s 92ms/step - loss: 2.2743 - accuracy: 0.8183 - val_loss: 2.2208 - val_accuracy: 0.8655\n",
            "Epoch 36/100\n",
            "164/164 [==============================] - 15s 92ms/step - loss: 2.2763 - accuracy: 0.8159 - val_loss: 2.2193 - val_accuracy: 0.8772\n",
            "Epoch 37/100\n",
            "164/164 [==============================] - 15s 92ms/step - loss: 2.2722 - accuracy: 0.8146 - val_loss: 2.2226 - val_accuracy: 0.8596\n",
            "Epoch 38/100\n",
            "164/164 [==============================] - 15s 92ms/step - loss: 2.2641 - accuracy: 0.8256 - val_loss: 2.2258 - val_accuracy: 0.8596\n",
            "Epoch 39/100\n",
            "164/164 [==============================] - 15s 92ms/step - loss: 2.2599 - accuracy: 0.8415 - val_loss: 2.2212 - val_accuracy: 0.8596\n",
            "Epoch 40/100\n",
            "164/164 [==============================] - 15s 92ms/step - loss: 2.2652 - accuracy: 0.8159 - val_loss: 2.2447 - val_accuracy: 0.8363\n",
            "Epoch 41/100\n",
            "164/164 [==============================] - 15s 92ms/step - loss: 2.2717 - accuracy: 0.8183 - val_loss: 2.2764 - val_accuracy: 0.7895\n",
            "Epoch 42/100\n",
            "164/164 [==============================] - 15s 92ms/step - loss: 2.2678 - accuracy: 0.8329 - val_loss: 2.2455 - val_accuracy: 0.8363\n",
            "Epoch 43/100\n",
            "164/164 [==============================] - 15s 93ms/step - loss: 2.2661 - accuracy: 0.8341 - val_loss: 2.2198 - val_accuracy: 0.8713\n",
            "Epoch 44/100\n",
            "164/164 [==============================] - 15s 93ms/step - loss: 2.2701 - accuracy: 0.8146 - val_loss: 2.2097 - val_accuracy: 0.8772\n",
            "Epoch 45/100\n",
            "164/164 [==============================] - 15s 93ms/step - loss: 2.2469 - accuracy: 0.8451 - val_loss: 2.2269 - val_accuracy: 0.8596\n",
            "Epoch 46/100\n",
            "164/164 [==============================] - 15s 93ms/step - loss: 2.2688 - accuracy: 0.8134 - val_loss: 2.2210 - val_accuracy: 0.8596\n",
            "Epoch 47/100\n",
            "164/164 [==============================] - 15s 93ms/step - loss: 2.2427 - accuracy: 0.8427 - val_loss: 2.2136 - val_accuracy: 0.8596\n",
            "Epoch 48/100\n",
            "164/164 [==============================] - 15s 92ms/step - loss: 2.2514 - accuracy: 0.8341 - val_loss: 2.2316 - val_accuracy: 0.8538\n",
            "Epoch 49/100\n",
            "164/164 [==============================] - 15s 94ms/step - loss: 2.2558 - accuracy: 0.8341 - val_loss: 2.2564 - val_accuracy: 0.8187\n",
            "Epoch 50/100\n",
            "164/164 [==============================] - 15s 94ms/step - loss: 2.2631 - accuracy: 0.8207 - val_loss: 2.2395 - val_accuracy: 0.8304\n",
            "Epoch 51/100\n",
            "164/164 [==============================] - 15s 93ms/step - loss: 2.2387 - accuracy: 0.8463 - val_loss: 2.2440 - val_accuracy: 0.8421\n",
            "Epoch 52/100\n",
            "164/164 [==============================] - 15s 93ms/step - loss: 2.2597 - accuracy: 0.8232 - val_loss: 2.2245 - val_accuracy: 0.8538\n",
            "Epoch 53/100\n",
            "164/164 [==============================] - 15s 93ms/step - loss: 2.2435 - accuracy: 0.8341 - val_loss: 2.2447 - val_accuracy: 0.8363\n",
            "Epoch 54/100\n",
            "164/164 [==============================] - 15s 93ms/step - loss: 2.2652 - accuracy: 0.8146 - val_loss: 2.2513 - val_accuracy: 0.8246\n",
            "Epoch 55/100\n",
            "164/164 [==============================] - 15s 93ms/step - loss: 2.2529 - accuracy: 0.8293 - val_loss: 2.2219 - val_accuracy: 0.8655\n",
            "Epoch 56/100\n",
            "164/164 [==============================] - 15s 93ms/step - loss: 2.2506 - accuracy: 0.8378 - val_loss: 2.2212 - val_accuracy: 0.8655\n",
            "Epoch 57/100\n",
            "164/164 [==============================] - 15s 93ms/step - loss: 2.2487 - accuracy: 0.8390 - val_loss: 2.2356 - val_accuracy: 0.8480\n",
            "Epoch 58/100\n",
            "164/164 [==============================] - 15s 93ms/step - loss: 2.2491 - accuracy: 0.8354 - val_loss: 2.2248 - val_accuracy: 0.8655\n",
            "Epoch 59/100\n",
            "164/164 [==============================] - 15s 93ms/step - loss: 2.2390 - accuracy: 0.8427 - val_loss: 2.2085 - val_accuracy: 0.8713\n",
            "Epoch 60/100\n",
            "164/164 [==============================] - 15s 92ms/step - loss: 2.2549 - accuracy: 0.8341 - val_loss: 2.2182 - val_accuracy: 0.8655\n",
            "Epoch 61/100\n",
            "164/164 [==============================] - 15s 92ms/step - loss: 2.2388 - accuracy: 0.8512 - val_loss: 2.1944 - val_accuracy: 0.8889\n",
            "Epoch 62/100\n",
            "164/164 [==============================] - 15s 93ms/step - loss: 2.2455 - accuracy: 0.8329 - val_loss: 2.2156 - val_accuracy: 0.8713\n",
            "Epoch 63/100\n",
            "164/164 [==============================] - 15s 94ms/step - loss: 2.2365 - accuracy: 0.8427 - val_loss: 2.2124 - val_accuracy: 0.8655\n",
            "Epoch 64/100\n",
            "164/164 [==============================] - 15s 93ms/step - loss: 2.2477 - accuracy: 0.8402 - val_loss: 2.2212 - val_accuracy: 0.8596\n",
            "Epoch 65/100\n",
            "164/164 [==============================] - 15s 91ms/step - loss: 2.2374 - accuracy: 0.8537 - val_loss: 2.2046 - val_accuracy: 0.8772\n",
            "Epoch 66/100\n",
            "164/164 [==============================] - 15s 92ms/step - loss: 2.2297 - accuracy: 0.8585 - val_loss: 2.2097 - val_accuracy: 0.8713\n",
            "Epoch 67/100\n",
            "164/164 [==============================] - 15s 92ms/step - loss: 2.2298 - accuracy: 0.8585 - val_loss: 2.2198 - val_accuracy: 0.8655\n",
            "Epoch 68/100\n",
            "164/164 [==============================] - 15s 92ms/step - loss: 2.2328 - accuracy: 0.8549 - val_loss: 2.2332 - val_accuracy: 0.8538\n",
            "Epoch 69/100\n",
            "164/164 [==============================] - 15s 92ms/step - loss: 2.2416 - accuracy: 0.8439 - val_loss: 2.2230 - val_accuracy: 0.8538\n",
            "Epoch 70/100\n",
            "164/164 [==============================] - 15s 92ms/step - loss: 2.2327 - accuracy: 0.8537 - val_loss: 2.2232 - val_accuracy: 0.8596\n",
            "Epoch 71/100\n",
            "164/164 [==============================] - 15s 92ms/step - loss: 2.2318 - accuracy: 0.8537 - val_loss: 2.2107 - val_accuracy: 0.8772\n",
            "Epoch 72/100\n",
            "164/164 [==============================] - 15s 92ms/step - loss: 2.2398 - accuracy: 0.8439 - val_loss: 2.2111 - val_accuracy: 0.8713\n",
            "Epoch 73/100\n",
            "164/164 [==============================] - 15s 92ms/step - loss: 2.2203 - accuracy: 0.8659 - val_loss: 2.2159 - val_accuracy: 0.8655\n",
            "Epoch 74/100\n",
            "164/164 [==============================] - 15s 93ms/step - loss: 2.2371 - accuracy: 0.8488 - val_loss: 2.2188 - val_accuracy: 0.8596\n",
            "Epoch 75/100\n",
            "164/164 [==============================] - 15s 93ms/step - loss: 2.2180 - accuracy: 0.8610 - val_loss: 2.2262 - val_accuracy: 0.8596\n",
            "Epoch 76/100\n",
            "164/164 [==============================] - 15s 93ms/step - loss: 2.2366 - accuracy: 0.8512 - val_loss: 2.2278 - val_accuracy: 0.8538\n",
            "Epoch 77/100\n",
            "164/164 [==============================] - 15s 93ms/step - loss: 2.2265 - accuracy: 0.8610 - val_loss: 2.2326 - val_accuracy: 0.8421\n",
            "Epoch 78/100\n",
            "164/164 [==============================] - 15s 92ms/step - loss: 2.2331 - accuracy: 0.8512 - val_loss: 2.2317 - val_accuracy: 0.8538\n",
            "Epoch 79/100\n",
            "164/164 [==============================] - 15s 91ms/step - loss: 2.2287 - accuracy: 0.8512 - val_loss: 2.2172 - val_accuracy: 0.8596\n",
            "Epoch 80/100\n",
            "164/164 [==============================] - 15s 92ms/step - loss: 2.2341 - accuracy: 0.8488 - val_loss: 2.2069 - val_accuracy: 0.8655\n",
            "Epoch 81/100\n",
            "164/164 [==============================] - 15s 92ms/step - loss: 2.2323 - accuracy: 0.8476 - val_loss: 2.1932 - val_accuracy: 0.8947\n",
            "Epoch 82/100\n",
            "164/164 [==============================] - 15s 92ms/step - loss: 2.2352 - accuracy: 0.8488 - val_loss: 2.2005 - val_accuracy: 0.8889\n",
            "Epoch 83/100\n",
            "164/164 [==============================] - 15s 92ms/step - loss: 2.2128 - accuracy: 0.8695 - val_loss: 2.2075 - val_accuracy: 0.8830\n",
            "Epoch 84/100\n",
            "164/164 [==============================] - 15s 92ms/step - loss: 2.2077 - accuracy: 0.8756 - val_loss: 2.2273 - val_accuracy: 0.8480\n",
            "Epoch 85/100\n",
            "164/164 [==============================] - 15s 92ms/step - loss: 2.2429 - accuracy: 0.8390 - val_loss: 2.2191 - val_accuracy: 0.8538\n",
            "Epoch 86/100\n",
            "164/164 [==============================] - 15s 93ms/step - loss: 2.2147 - accuracy: 0.8671 - val_loss: 2.2354 - val_accuracy: 0.8480\n",
            "Epoch 87/100\n",
            "164/164 [==============================] - 15s 93ms/step - loss: 2.2397 - accuracy: 0.8390 - val_loss: 2.2368 - val_accuracy: 0.8421\n",
            "Epoch 88/100\n",
            "164/164 [==============================] - 15s 94ms/step - loss: 2.2429 - accuracy: 0.8439 - val_loss: 2.2317 - val_accuracy: 0.8538\n",
            "Epoch 89/100\n",
            "164/164 [==============================] - 15s 93ms/step - loss: 2.2375 - accuracy: 0.8463 - val_loss: 2.2439 - val_accuracy: 0.8363\n",
            "Epoch 90/100\n",
            "164/164 [==============================] - 15s 93ms/step - loss: 2.2142 - accuracy: 0.8707 - val_loss: 2.2291 - val_accuracy: 0.8421\n",
            "Epoch 91/100\n",
            "164/164 [==============================] - 15s 92ms/step - loss: 2.2339 - accuracy: 0.8549 - val_loss: 2.2236 - val_accuracy: 0.8596\n",
            "Epoch 92/100\n",
            "164/164 [==============================] - 15s 93ms/step - loss: 2.2182 - accuracy: 0.8659 - val_loss: 2.2414 - val_accuracy: 0.8421\n",
            "Epoch 93/100\n",
            "164/164 [==============================] - 15s 90ms/step - loss: 2.2156 - accuracy: 0.8610 - val_loss: 2.2189 - val_accuracy: 0.8596\n",
            "Epoch 94/100\n",
            "164/164 [==============================] - 15s 90ms/step - loss: 2.2223 - accuracy: 0.8634 - val_loss: 2.2212 - val_accuracy: 0.8538\n",
            "Epoch 95/100\n",
            "164/164 [==============================] - 15s 90ms/step - loss: 2.2572 - accuracy: 0.8244 - val_loss: 2.2266 - val_accuracy: 0.8596\n",
            "Epoch 96/100\n",
            "164/164 [==============================] - 15s 90ms/step - loss: 2.2336 - accuracy: 0.8427 - val_loss: 2.2167 - val_accuracy: 0.8596\n",
            "Epoch 97/100\n",
            "164/164 [==============================] - 15s 93ms/step - loss: 2.2288 - accuracy: 0.8549 - val_loss: 2.1997 - val_accuracy: 0.8713\n",
            "Epoch 98/100\n",
            "164/164 [==============================] - 16s 98ms/step - loss: 2.2121 - accuracy: 0.8671 - val_loss: 2.2217 - val_accuracy: 0.8655\n",
            "Epoch 99/100\n",
            "164/164 [==============================] - 16s 97ms/step - loss: 2.2158 - accuracy: 0.8683 - val_loss: 2.2212 - val_accuracy: 0.8713\n",
            "Epoch 100/100\n",
            "164/164 [==============================] - 15s 92ms/step - loss: 2.2080 - accuracy: 0.8756 - val_loss: 2.2226 - val_accuracy: 0.8655\n"
          ]
        }
      ]
    },
    {
      "cell_type": "code",
      "source": [
        "acc2 = second.history['accuracy']\n",
        "val_acc2 = second.history['val_accuracy']\n",
        "loss2 = second.history['loss']\n",
        "val_loss2 = second.history['val_loss']\n",
        "\n",
        "epochs2 = range(len(acc2))\n",
        "\n",
        "\n",
        "# Plot training and validation accuracy per epoch\n",
        "plt.plot(epochs2,acc2)\n",
        "plt.plot(epochs2,val_acc2)\n",
        "plt.title('Training and validation accuracy')\n",
        "plt.figure()\n",
        "\n",
        "# Plot training and validation loss per epoch\n",
        "plt.plot(epochs2,loss2)\n",
        "plt.plot(epochs2,val_loss2)\n",
        "plt.title('Training and validation loss')"
      ],
      "metadata": {
        "colab": {
          "base_uri": "https://localhost:8080/",
          "height": 562
        },
        "id": "E4e2IveQYkaR",
        "outputId": "9a6d0260-16e4-4d8c-f94b-69f65addbf55"
      },
      "id": "E4e2IveQYkaR",
      "execution_count": 82,
      "outputs": [
        {
          "output_type": "execute_result",
          "data": {
            "text/plain": [
              "Text(0.5, 1.0, 'Training and validation loss')"
            ]
          },
          "metadata": {},
          "execution_count": 82
        },
        {
          "output_type": "display_data",
          "data": {
            "text/plain": [
              "<Figure size 432x288 with 1 Axes>"
            ],
            "image/png": "[encoded data removed]"
          },
          "metadata": {
            "needs_background": "light"
          }
        },
        {
          "output_type": "display_data",
          "data": {
            "text/plain": [
              "<Figure size 432x288 with 1 Axes>"
            ],
            "image/png": "[encoded data removed]"
          },
          "metadata": {
            "needs_background": "light"
          }
        }
      ]
    },
    {
      "cell_type": "code",
      "source": [
        "ENB_model.save(\"ENB_model.h5\")"
      ],
      "metadata": {
        "id": "jROyd7CgCe0R"
      },
      "id": "jROyd7CgCe0R",
      "execution_count": 83,
      "outputs": []
    },
    {
      "cell_type": "code",
      "source": [
        "test_generator_2 = test_datagen_2.flow_from_directory(\n",
        "                    \"/content/drive/My Drive/final-project-WilliamLu1999/output/test/\",\n",
        "                    batch_size=5, \n",
        "                    class_mode='categorical', \n",
        "                    shuffle=False,\n",
        "                    target_size=(image_width, image_height)\n",
        ")"
      ],
      "metadata": {
        "colab": {
          "base_uri": "https://localhost:8080/"
        },
        "id": "rs9B3sMXCqxH",
        "outputId": "61e1f616-f03f-468c-cd1c-c2392f2653bd"
      },
      "id": "rs9B3sMXCqxH",
      "execution_count": 84,
      "outputs": [
        {
          "output_type": "stream",
          "name": "stdout",
          "text": [
            "Found 185 images belonging to 20 classes.\n"
          ]
        }
      ]
    },
    {
      "cell_type": "code",
      "source": [
        "pred_2 = ENB_model.predict_generator(test_generator_2,verbose=1)"
      ],
      "metadata": {
        "colab": {
          "base_uri": "https://localhost:8080/"
        },
        "id": "Tp8suvbEC4qw",
        "outputId": "06e3e255-0b9f-4f8c-d02f-362e5f8e24de"
      },
      "id": "Tp8suvbEC4qw",
      "execution_count": 85,
      "outputs": [
        {
          "output_type": "stream",
          "name": "stderr",
          "text": [
            "<ipython-input-85-905d4553c814>:1: UserWarning: `Model.predict_generator` is deprecated and will be removed in a future version. Please use `Model.predict`, which supports generators.\n",
            "  pred_2 = ENB_model.predict_generator(test_generator_2,verbose=1)\n"
          ]
        },
        {
          "output_type": "stream",
          "name": "stdout",
          "text": [
            "37/37 [==============================] - 3s 30ms/step\n"
          ]
        }
      ]
    },
    {
      "cell_type": "code",
      "source": [
        "predIdxs_2 = np.argmax(pred_2, axis=1)\n",
        "print(classification_report(test_generator_2.labels, predIdxs_2,target_names=['class '+str(i) for i in range(0,20)]))"
      ],
      "metadata": {
        "colab": {
          "base_uri": "https://localhost:8080/"
        },
        "id": "3NHpkWinC7tQ",
        "outputId": "2dd9dc1f-f9a7-42a7-bed4-e6f2a499830b"
      },
      "id": "3NHpkWinC7tQ",
      "execution_count": 86,
      "outputs": [
        {
          "output_type": "stream",
          "name": "stdout",
          "text": [
            "              precision    recall  f1-score   support\n",
            "\n",
            "     class 0       0.88      0.88      0.88         8\n",
            "     class 1       1.00      0.89      0.94         9\n",
            "     class 2       1.00      1.00      1.00        10\n",
            "     class 3       1.00      0.80      0.89        10\n",
            "     class 4       1.00      0.67      0.80         9\n",
            "     class 5       0.88      0.78      0.82         9\n",
            "     class 6       1.00      1.00      1.00         9\n",
            "     class 7       0.82      1.00      0.90         9\n",
            "     class 8       1.00      1.00      1.00         9\n",
            "     class 9       0.90      1.00      0.95         9\n",
            "    class 10       1.00      1.00      1.00         9\n",
            "    class 11       0.82      1.00      0.90         9\n",
            "    class 12       1.00      0.89      0.94         9\n",
            "    class 13       0.75      0.67      0.71         9\n",
            "    class 14       0.73      0.89      0.80         9\n",
            "    class 15       0.70      0.70      0.70        10\n",
            "    class 16       1.00      1.00      1.00        10\n",
            "    class 17       1.00      0.90      0.95        10\n",
            "    class 18       0.60      1.00      0.75         9\n",
            "    class 19       1.00      0.70      0.82        10\n",
            "\n",
            "    accuracy                           0.89       185\n",
            "   macro avg       0.90      0.89      0.89       185\n",
            "weighted avg       0.90      0.89      0.89       185\n",
            "\n"
          ]
        }
      ]
    }
  ],
  "metadata": {
    "kernelspec": {
      "display_name": "Python 3 (ipykernel)",
      "language": "python",
      "name": "python3"
    },
    "language_info": {
      "codemirror_mode": {
        "name": "ipython",
        "version": 3
      },
      "file_extension": ".py",
      "mimetype": "text/x-python",
      "name": "python",
      "nbconvert_exporter": "python",
      "pygments_lexer": "ipython3",
      "version": "3.9.12"
    },
    "colab": {
      "provenance": []
    },
    "accelerator": "GPU",
    "gpuClass": "premium"
  },
  "nbformat": 4,
  "nbformat_minor": 5
}